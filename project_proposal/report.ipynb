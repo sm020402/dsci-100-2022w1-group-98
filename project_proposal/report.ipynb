{
 "cells": [
  {
   "cell_type": "markdown",
   "id": "b2d8e6a1-f8d5-454f-af8e-adaca3200e0d",
   "metadata": {},
   "source": [
    "Title:"
   ]
  },
  {
   "cell_type": "markdown",
   "id": "07fac4eb-31a5-41eb-8c9e-cc71948d9107",
   "metadata": {},
   "source": [
    "Introduction:\n",
    "- provide some relevant background information on the topic so that someone unfamiliar with it will be prepared to understand the rest of your report\n",
    "- clearly state the question you tried to answer with your project\n",
    "- identify and describe the dataset that was used to answer the question"
   ]
  },
  {
   "cell_type": "code",
   "execution_count": 77,
   "id": "ffdfb76e-6b4b-40a4-99a0-4a65a20413d5",
   "metadata": {},
   "outputs": [],
   "source": [
    "library(tidyverse)\n",
    "library(repr)\n",
    "library(tidymodels)\n",
    "options(repr.matrix.max.rows = 6)"
   ]
  },
  {
   "cell_type": "code",
   "execution_count": 78,
   "id": "1947be91-935d-4c90-96c2-17edb93635a6",
   "metadata": {},
   "outputs": [
    {
     "name": "stderr",
     "output_type": "stream",
     "text": [
      "\u001b[1mRows: \u001b[22m\u001b[34m5850\u001b[39m \u001b[1mColumns: \u001b[22m\u001b[34m15\u001b[39m\n",
      "\u001b[36m──\u001b[39m \u001b[1mColumn specification\u001b[22m \u001b[36m────────────────────────────────────────────────────────\u001b[39m\n",
      "\u001b[1mDelimiter:\u001b[22m \",\"\n",
      "\u001b[31mchr\u001b[39m (8): id, title, type, description, age_certification, genres, production...\n",
      "\u001b[32mdbl\u001b[39m (7): release_year, runtime, seasons, imdb_score, imdb_votes, tmdb_popula...\n",
      "\n",
      "\u001b[36mℹ\u001b[39m Use `spec()` to retrieve the full column specification for this data.\n",
      "\u001b[36mℹ\u001b[39m Specify the column types or set `show_col_types = FALSE` to quiet this message.\n"
     ]
    }
   ],
   "source": [
    "#loads data from the original source on the web \n",
    "titles_data <- read_csv(\"https://github.com/sm020402/dsci-100-2022w1-group-98/raw/main/project_proposal/data/titles.csv\")\n",
    "\n",
    "#filter out only movies from the data and select only the number column\n",
    "titles_movie_data <- titles_data %>%\n",
    "    filter(type == \"MOVIE\") %>%\n",
    "    select(runtime, release_year, tmdb_popularity,imdb_score, imdb_votes, tmdb_popularity, tmdb_score)"
   ]
  },
  {
   "cell_type": "code",
   "execution_count": 79,
   "id": "aa026ab8-1020-4d5d-9144-6d4a5339509d",
   "metadata": {},
   "outputs": [
    {
     "data": {
      "text/html": [
       "<style>\n",
       ".dl-inline {width: auto; margin:0; padding: 0}\n",
       ".dl-inline>dt, .dl-inline>dd {float: none; width: auto; display: inline-block}\n",
       ".dl-inline>dt::after {content: \":\\0020\"; padding-right: .5ex}\n",
       ".dl-inline>dt:not(:first-of-type) {padding-left: .5ex}\n",
       "</style><dl class=dl-inline><dt>runtime</dt><dd>0</dd><dt>release_year</dt><dd>0</dd><dt>tmdb_popularity</dt><dd>62</dd><dt>imdb_score</dt><dd>315</dd><dt>imdb_votes</dt><dd>331</dd><dt>tmdb_score</dt><dd>195</dd></dl>\n"
      ],
      "text/latex": [
       "\\begin{description*}\n",
       "\\item[runtime] 0\n",
       "\\item[release\\textbackslash{}\\_year] 0\n",
       "\\item[tmdb\\textbackslash{}\\_popularity] 62\n",
       "\\item[imdb\\textbackslash{}\\_score] 315\n",
       "\\item[imdb\\textbackslash{}\\_votes] 331\n",
       "\\item[tmdb\\textbackslash{}\\_score] 195\n",
       "\\end{description*}\n"
      ],
      "text/markdown": [
       "runtime\n",
       ":   0release_year\n",
       ":   0tmdb_popularity\n",
       ":   62imdb_score\n",
       ":   315imdb_votes\n",
       ":   331tmdb_score\n",
       ":   195\n",
       "\n"
      ],
      "text/plain": [
       "        runtime    release_year tmdb_popularity      imdb_score      imdb_votes \n",
       "              0               0              62             315             331 \n",
       "     tmdb_score \n",
       "            195 "
      ]
     },
     "metadata": {},
     "output_type": "display_data"
    }
   ],
   "source": [
    "titles_missing_values <- \n",
    "sapply(titles_movie_data, function(x) sum(is.na(x))) #count missing values for every column in dataset\n",
    "titles_missing_values   "
   ]
  },
  {
   "cell_type": "code",
   "execution_count": 80,
   "id": "bdbaa810-6c2e-4e26-aafe-46ef5b1a12ec",
   "metadata": {},
   "outputs": [],
   "source": [
    "titles_movie <- na.omit(titles_movie_data) "
   ]
  },
  {
   "cell_type": "code",
   "execution_count": 81,
   "id": "fa922356-c817-4262-9daf-d00aa18a6f4a",
   "metadata": {},
   "outputs": [
    {
     "data": {
      "text/html": [
       "<table class=\"dataframe\">\n",
       "<caption>A tibble: 2451 × 6</caption>\n",
       "<thead>\n",
       "\t<tr><th scope=col>runtime</th><th scope=col>release_year</th><th scope=col>tmdb_popularity</th><th scope=col>imdb_score</th><th scope=col>imdb_votes</th><th scope=col>tmdb_score</th></tr>\n",
       "\t<tr><th scope=col>&lt;dbl&gt;</th><th scope=col>&lt;dbl&gt;</th><th scope=col>&lt;dbl&gt;</th><th scope=col>&lt;dbl&gt;</th><th scope=col>&lt;dbl&gt;</th><th scope=col>&lt;dbl&gt;</th></tr>\n",
       "</thead>\n",
       "<tbody>\n",
       "\t<tr><td> 97</td><td>1972</td><td>1.268</td><td>6.2</td><td> 418</td><td>6.1</td></tr>\n",
       "\t<tr><td>133</td><td>1979</td><td>1.370</td><td>7.2</td><td>1727</td><td>6.0</td></tr>\n",
       "\t<tr><td>129</td><td>1969</td><td>1.265</td><td>8.1</td><td>1958</td><td>8.5</td></tr>\n",
       "\t<tr><td>⋮</td><td>⋮</td><td>⋮</td><td>⋮</td><td>⋮</td><td>⋮</td></tr>\n",
       "\t<tr><td>64</td><td>2021</td><td>34.522</td><td>4.7</td><td>53</td><td>7.6</td></tr>\n",
       "\t<tr><td>25</td><td>2021</td><td>53.762</td><td>5.6</td><td>38</td><td>6.3</td></tr>\n",
       "\t<tr><td>90</td><td>2021</td><td>26.005</td><td>3.8</td><td>68</td><td>6.3</td></tr>\n",
       "</tbody>\n",
       "</table>\n"
      ],
      "text/latex": [
       "A tibble: 2451 × 6\n",
       "\\begin{tabular}{llllll}\n",
       " runtime & release\\_year & tmdb\\_popularity & imdb\\_score & imdb\\_votes & tmdb\\_score\\\\\n",
       " <dbl> & <dbl> & <dbl> & <dbl> & <dbl> & <dbl>\\\\\n",
       "\\hline\n",
       "\t  97 & 1972 & 1.268 & 6.2 &  418 & 6.1\\\\\n",
       "\t 133 & 1979 & 1.370 & 7.2 & 1727 & 6.0\\\\\n",
       "\t 129 & 1969 & 1.265 & 8.1 & 1958 & 8.5\\\\\n",
       "\t ⋮ & ⋮ & ⋮ & ⋮ & ⋮ & ⋮\\\\\n",
       "\t 64 & 2021 & 34.522 & 4.7 & 53 & 7.6\\\\\n",
       "\t 25 & 2021 & 53.762 & 5.6 & 38 & 6.3\\\\\n",
       "\t 90 & 2021 & 26.005 & 3.8 & 68 & 6.3\\\\\n",
       "\\end{tabular}\n"
      ],
      "text/markdown": [
       "\n",
       "A tibble: 2451 × 6\n",
       "\n",
       "| runtime &lt;dbl&gt; | release_year &lt;dbl&gt; | tmdb_popularity &lt;dbl&gt; | imdb_score &lt;dbl&gt; | imdb_votes &lt;dbl&gt; | tmdb_score &lt;dbl&gt; |\n",
       "|---|---|---|---|---|---|\n",
       "|  97 | 1972 | 1.268 | 6.2 |  418 | 6.1 |\n",
       "| 133 | 1979 | 1.370 | 7.2 | 1727 | 6.0 |\n",
       "| 129 | 1969 | 1.265 | 8.1 | 1958 | 8.5 |\n",
       "| ⋮ | ⋮ | ⋮ | ⋮ | ⋮ | ⋮ |\n",
       "| 64 | 2021 | 34.522 | 4.7 | 53 | 7.6 |\n",
       "| 25 | 2021 | 53.762 | 5.6 | 38 | 6.3 |\n",
       "| 90 | 2021 | 26.005 | 3.8 | 68 | 6.3 |\n",
       "\n"
      ],
      "text/plain": [
       "     runtime release_year tmdb_popularity imdb_score imdb_votes tmdb_score\n",
       "1     97     1972         1.268           6.2         418       6.1       \n",
       "2    133     1979         1.370           7.2        1727       6.0       \n",
       "3    129     1969         1.265           8.1        1958       8.5       \n",
       "⋮    ⋮       ⋮            ⋮               ⋮          ⋮          ⋮         \n",
       "2449 64      2021         34.522          4.7        53         7.6       \n",
       "2450 25      2021         53.762          5.6        38         6.3       \n",
       "2451 90      2021         26.005          3.8        68         6.3       "
      ]
     },
     "metadata": {},
     "output_type": "display_data"
    },
    {
     "data": {
      "text/html": [
       "<table class=\"dataframe\">\n",
       "<caption>A tibble: 820 × 6</caption>\n",
       "<thead>\n",
       "\t<tr><th scope=col>runtime</th><th scope=col>release_year</th><th scope=col>tmdb_popularity</th><th scope=col>imdb_score</th><th scope=col>imdb_votes</th><th scope=col>tmdb_score</th></tr>\n",
       "\t<tr><th scope=col>&lt;dbl&gt;</th><th scope=col>&lt;dbl&gt;</th><th scope=col>&lt;dbl&gt;</th><th scope=col>&lt;dbl&gt;</th><th scope=col>&lt;dbl&gt;</th><th scope=col>&lt;dbl&gt;</th></tr>\n",
       "</thead>\n",
       "<tbody>\n",
       "\t<tr><td>114</td><td>1976</td><td>40.965</td><td>8.2</td><td>808582</td><td>8.179</td></tr>\n",
       "\t<tr><td>117</td><td>1966</td><td>13.123</td><td>7.3</td><td> 16446</td><td>7.100</td></tr>\n",
       "\t<tr><td>115</td><td>1954</td><td> 8.915</td><td>7.5</td><td> 42488</td><td>7.200</td></tr>\n",
       "\t<tr><td>⋮</td><td>⋮</td><td>⋮</td><td>⋮</td><td>⋮</td><td>⋮</td></tr>\n",
       "\t<tr><td>148</td><td>2021</td><td>1.978</td><td>5.1</td><td>1497</td><td>5.3</td></tr>\n",
       "\t<tr><td> 92</td><td>2021</td><td>1.971</td><td>6.8</td><td>1007</td><td>7.5</td></tr>\n",
       "\t<tr><td>101</td><td>2021</td><td>1.748</td><td>5.0</td><td> 136</td><td>6.7</td></tr>\n",
       "</tbody>\n",
       "</table>\n"
      ],
      "text/latex": [
       "A tibble: 820 × 6\n",
       "\\begin{tabular}{llllll}\n",
       " runtime & release\\_year & tmdb\\_popularity & imdb\\_score & imdb\\_votes & tmdb\\_score\\\\\n",
       " <dbl> & <dbl> & <dbl> & <dbl> & <dbl> & <dbl>\\\\\n",
       "\\hline\n",
       "\t 114 & 1976 & 40.965 & 8.2 & 808582 & 8.179\\\\\n",
       "\t 117 & 1966 & 13.123 & 7.3 &  16446 & 7.100\\\\\n",
       "\t 115 & 1954 &  8.915 & 7.5 &  42488 & 7.200\\\\\n",
       "\t ⋮ & ⋮ & ⋮ & ⋮ & ⋮ & ⋮\\\\\n",
       "\t 148 & 2021 & 1.978 & 5.1 & 1497 & 5.3\\\\\n",
       "\t  92 & 2021 & 1.971 & 6.8 & 1007 & 7.5\\\\\n",
       "\t 101 & 2021 & 1.748 & 5.0 &  136 & 6.7\\\\\n",
       "\\end{tabular}\n"
      ],
      "text/markdown": [
       "\n",
       "A tibble: 820 × 6\n",
       "\n",
       "| runtime &lt;dbl&gt; | release_year &lt;dbl&gt; | tmdb_popularity &lt;dbl&gt; | imdb_score &lt;dbl&gt; | imdb_votes &lt;dbl&gt; | tmdb_score &lt;dbl&gt; |\n",
       "|---|---|---|---|---|---|\n",
       "| 114 | 1976 | 40.965 | 8.2 | 808582 | 8.179 |\n",
       "| 117 | 1966 | 13.123 | 7.3 |  16446 | 7.100 |\n",
       "| 115 | 1954 |  8.915 | 7.5 |  42488 | 7.200 |\n",
       "| ⋮ | ⋮ | ⋮ | ⋮ | ⋮ | ⋮ |\n",
       "| 148 | 2021 | 1.978 | 5.1 | 1497 | 5.3 |\n",
       "|  92 | 2021 | 1.971 | 6.8 | 1007 | 7.5 |\n",
       "| 101 | 2021 | 1.748 | 5.0 |  136 | 6.7 |\n",
       "\n"
      ],
      "text/plain": [
       "    runtime release_year tmdb_popularity imdb_score imdb_votes tmdb_score\n",
       "1   114     1976         40.965          8.2        808582     8.179     \n",
       "2   117     1966         13.123          7.3         16446     7.100     \n",
       "3   115     1954          8.915          7.5         42488     7.200     \n",
       "⋮   ⋮       ⋮            ⋮               ⋮          ⋮          ⋮         \n",
       "818 148     2021         1.978           5.1        1497       5.3       \n",
       "819  92     2021         1.971           6.8        1007       7.5       \n",
       "820 101     2021         1.748           5.0         136       6.7       "
      ]
     },
     "metadata": {},
     "output_type": "display_data"
    }
   ],
   "source": [
    "set.seed(1)\n",
    "titles_split <- initial_split(titles_movie, prop = 0.75 , strata = tmdb_popularity)\n",
    "titles_training <- training(titles_split)\n",
    "titles_testing <- testing(titles_split)\n",
    "titles_training\n",
    "titles_testing"
   ]
  },
  {
   "cell_type": "code",
   "execution_count": 82,
   "id": "f52553d8-4f72-4e48-bd04-09dfaf9f1224",
   "metadata": {},
   "outputs": [
    {
     "data": {
      "text/html": [
       "<table class=\"dataframe\">\n",
       "<caption>A tibble: 1 × 5</caption>\n",
       "<thead>\n",
       "\t<tr><th scope=col>runtime</th><th scope=col>imdb_score</th><th scope=col>imdb_votes</th><th scope=col>tmdb_popularity</th><th scope=col>tmdb_score</th></tr>\n",
       "\t<tr><th scope=col>&lt;dbl&gt;</th><th scope=col>&lt;dbl&gt;</th><th scope=col>&lt;dbl&gt;</th><th scope=col>&lt;dbl&gt;</th><th scope=col>&lt;dbl&gt;</th></tr>\n",
       "</thead>\n",
       "<tbody>\n",
       "\t<tr><td>101.6157</td><td>6.272379</td><td>28741.47</td><td>21.31249</td><td>6.461674</td></tr>\n",
       "</tbody>\n",
       "</table>\n"
      ],
      "text/latex": [
       "A tibble: 1 × 5\n",
       "\\begin{tabular}{lllll}\n",
       " runtime & imdb\\_score & imdb\\_votes & tmdb\\_popularity & tmdb\\_score\\\\\n",
       " <dbl> & <dbl> & <dbl> & <dbl> & <dbl>\\\\\n",
       "\\hline\n",
       "\t 101.6157 & 6.272379 & 28741.47 & 21.31249 & 6.461674\\\\\n",
       "\\end{tabular}\n"
      ],
      "text/markdown": [
       "\n",
       "A tibble: 1 × 5\n",
       "\n",
       "| runtime &lt;dbl&gt; | imdb_score &lt;dbl&gt; | imdb_votes &lt;dbl&gt; | tmdb_popularity &lt;dbl&gt; | tmdb_score &lt;dbl&gt; |\n",
       "|---|---|---|---|---|\n",
       "| 101.6157 | 6.272379 | 28741.47 | 21.31249 | 6.461674 |\n",
       "\n"
      ],
      "text/plain": [
       "  runtime  imdb_score imdb_votes tmdb_popularity tmdb_score\n",
       "1 101.6157 6.272379   28741.47   21.31249        6.461674  "
      ]
     },
     "metadata": {},
     "output_type": "display_data"
    },
    {
     "data": {
      "text/html": [
       "<table class=\"dataframe\">\n",
       "<caption>A data.frame: 1 × 5</caption>\n",
       "<thead>\n",
       "\t<tr><th scope=col>runtime</th><th scope=col>imdb_score</th><th scope=col>imdb_votes</th><th scope=col>tmdb_popularity</th><th scope=col>tmdb_score</th></tr>\n",
       "\t<tr><th scope=col>&lt;dbl&gt;</th><th scope=col>&lt;dbl&gt;</th><th scope=col>&lt;dbl&gt;</th><th scope=col>&lt;dbl&gt;</th><th scope=col>&lt;dbl&gt;</th></tr>\n",
       "</thead>\n",
       "<tbody>\n",
       "\t<tr><td>223</td><td>7.5</td><td>2294226</td><td>2273.444</td><td>9</td></tr>\n",
       "</tbody>\n",
       "</table>\n"
      ],
      "text/latex": [
       "A data.frame: 1 × 5\n",
       "\\begin{tabular}{lllll}\n",
       " runtime & imdb\\_score & imdb\\_votes & tmdb\\_popularity & tmdb\\_score\\\\\n",
       " <dbl> & <dbl> & <dbl> & <dbl> & <dbl>\\\\\n",
       "\\hline\n",
       "\t 223 & 7.5 & 2294226 & 2273.444 & 9\\\\\n",
       "\\end{tabular}\n"
      ],
      "text/markdown": [
       "\n",
       "A data.frame: 1 × 5\n",
       "\n",
       "| runtime &lt;dbl&gt; | imdb_score &lt;dbl&gt; | imdb_votes &lt;dbl&gt; | tmdb_popularity &lt;dbl&gt; | tmdb_score &lt;dbl&gt; |\n",
       "|---|---|---|---|---|\n",
       "| 223 | 7.5 | 2294226 | 2273.444 | 9 |\n",
       "\n"
      ],
      "text/plain": [
       "  runtime imdb_score imdb_votes tmdb_popularity tmdb_score\n",
       "1 223     7.5        2294226    2273.444        9         "
      ]
     },
     "metadata": {},
     "output_type": "display_data"
    }
   ],
   "source": [
    "titles_mean <- titles_training %>%\n",
    "    select(runtime, imdb_score, imdb_votes, tmdb_popularity, tmdb_score) %>%\n",
    "    map_df(mean, na.rm = TRUE)\n",
    "titles_mean\n",
    "\n",
    "titles_max <- titles_training %>%\n",
    "    select(runtime, imdb_score, imdb_votes, tmdb_popularity, tmdb_score) %>%\n",
    "    map_df(max, na.rm = TRUE)\n",
    "\n",
    "titles_min <- titles_training %>%\n",
    "    select(runtime, imdb_score, imdb_votes, tmdb_popularity, tmdb_score) %>%\n",
    "    map_df(min, na.rm = TRUE)\n",
    "\n",
    "titles_range <- titles_max - titles_min\n",
    "titles_range"
   ]
  },
  {
   "cell_type": "code",
   "execution_count": 83,
   "id": "295362dc-e3f4-48e4-87fa-87b0b871123a",
   "metadata": {},
   "outputs": [
    {
     "data": {
      "image/png": "[encoded data removed]",
      "text/plain": [
       "plot without title"
      ]
     },
     "metadata": {
      "image/png": {
       "height": 420,
       "width": 480
      }
     },
     "output_type": "display_data"
    }
   ],
   "source": [
    "options(repr.plot.width = 8, repr.plot.height = 7) \n",
    "iscore_plot <- titles_training %>%\n",
    "    ggplot(aes(x = imdb_score, y = tmdb_popularity)) +\n",
    "    geom_point() +\n",
    "    labs(x = \"IMDB Score\", y = \"TMDB Popularity\") +\n",
    "    ggtitle(\"The relationship between IMDB Score and TMDB Popularity\")+\n",
    "    theme(text = element_text(size = 15))\n",
    "\n",
    "iscore_plot"
   ]
  },
  {
   "cell_type": "code",
   "execution_count": 84,
   "id": "80f4fc83-debd-452f-869e-c769146e366f",
   "metadata": {},
   "outputs": [
    {
     "data": {
      "image/png": "[encoded data removed]",
      "text/plain": [
       "plot without title"
      ]
     },
     "metadata": {
      "image/png": {
       "height": 420,
       "width": 480
      }
     },
     "output_type": "display_data"
    }
   ],
   "source": [
    "options(repr.plot.width = 8, repr.plot.height = 7) \n",
    "ivotes_plot <- titles_training %>%\n",
    "    ggplot(aes(x = imdb_votes, y = tmdb_popularity)) +\n",
    "    geom_point() +\n",
    "    labs(x =\"IMDB Votes\", y =\"TMDB Popularity\") +\n",
    "    ggtitle(\"The relationship between IMDB Votes and TMDB Popularity\")+\n",
    "    theme(text = element_text(size = 15))\n",
    "\n",
    "ivotes_plot"
   ]
  },
  {
   "cell_type": "code",
   "execution_count": 85,
   "id": "1179bb92-939d-4a00-9acb-d82e9dd7ab45",
   "metadata": {},
   "outputs": [
    {
     "data": {
      "image/png": "[encoded data removed]",
      "text/plain": [
       "plot without title"
      ]
     },
     "metadata": {
      "image/png": {
       "height": 360,
       "width": 480
      }
     },
     "output_type": "display_data"
    }
   ],
   "source": [
    "options(repr.plot.width = 8, repr.plot.height = 6) \n",
    "tscore_plot <- titles_training %>%\n",
    "    ggplot(aes(x =  tmdb_score, y =tmdb_popularity)) +\n",
    "    geom_point() +\n",
    "    labs(x = \"TMDB Score\", y = \"TMDB Popularity\") +\n",
    "    ggtitle(\"The relationship between TMDB Score and TMDB Popularity\")+\n",
    "    theme(text = element_text(size = 15))\n",
    "\n",
    "tscore_plot"
   ]
  },
  {
   "cell_type": "code",
   "execution_count": 86,
   "id": "4559e6f6-4526-4c24-ab57-d62eae2db971",
   "metadata": {},
   "outputs": [
    {
     "data": {
      "text/plain": [
       "Recipe\n",
       "\n",
       "Inputs:\n",
       "\n",
       "      role #variables\n",
       "   outcome          1\n",
       " predictor          3\n",
       "\n",
       "Operations:\n",
       "\n",
       "Scaling for all_predictors()\n",
       "Centering for all_predictors()"
      ]
     },
     "metadata": {},
     "output_type": "display_data"
    }
   ],
   "source": [
    "set.seed(1)\n",
    "titles_vfold <- vfold_cv(titles_training, v = 5, strata = tmdb_popularity)\n",
    "\n",
    "titles_recipe <- recipe(tmdb_popularity ~ imdb_score + imdb_votes + tmdb_score, data = titles_training) %>%\n",
    "      step_scale(all_predictors()) %>%\n",
    "      step_center(all_predictors())\n",
    "\n",
    "titles_spec <- nearest_neighbor(weight_func = \"rectangular\", neighbors = tune()) %>%\n",
    "      set_engine(\"kknn\") %>%\n",
    "      set_mode(\"regression\")\n",
    "titles_recipe"
   ]
  },
  {
   "cell_type": "code",
   "execution_count": 87,
   "id": "faa4c524-89da-4908-bdd3-5960cced8ad4",
   "metadata": {},
   "outputs": [
    {
     "data": {
      "text/plain": [
       "══ Workflow ════════════════════════════════════════════════════════════════════\n",
       "\u001b[3mPreprocessor:\u001b[23m Recipe\n",
       "\u001b[3mModel:\u001b[23m nearest_neighbor()\n",
       "\n",
       "── Preprocessor ────────────────────────────────────────────────────────────────\n",
       "2 Recipe Steps\n",
       "\n",
       "• step_scale()\n",
       "• step_center()\n",
       "\n",
       "── Model ───────────────────────────────────────────────────────────────────────\n",
       "K-Nearest Neighbor Model Specification (regression)\n",
       "\n",
       "Main Arguments:\n",
       "  neighbors = tune()\n",
       "  weight_func = rectangular\n",
       "\n",
       "Computational engine: kknn \n"
      ]
     },
     "metadata": {},
     "output_type": "display_data"
    }
   ],
   "source": [
    "set.seed(1)\n",
    "titles_workflow <- workflow() %>%\n",
    "    add_recipe(titles_recipe) %>%\n",
    "    add_model(titles_spec)\n",
    "titles_workflow"
   ]
  },
  {
   "cell_type": "code",
   "execution_count": 88,
   "id": "36cf8d31-184e-427b-9495-6241f695fa85",
   "metadata": {},
   "outputs": [
    {
     "data": {
      "text/html": [
       "<table class=\"dataframe\">\n",
       "<caption>A tibble: 200 × 7</caption>\n",
       "<thead>\n",
       "\t<tr><th scope=col>neighbors</th><th scope=col>.metric</th><th scope=col>.estimator</th><th scope=col>mean</th><th scope=col>n</th><th scope=col>std_err</th><th scope=col>.config</th></tr>\n",
       "\t<tr><th scope=col>&lt;int&gt;</th><th scope=col>&lt;chr&gt;</th><th scope=col>&lt;chr&gt;</th><th scope=col>&lt;dbl&gt;</th><th scope=col>&lt;int&gt;</th><th scope=col>&lt;dbl&gt;</th><th scope=col>&lt;chr&gt;</th></tr>\n",
       "</thead>\n",
       "<tbody>\n",
       "\t<tr><td>1</td><td>rmse</td><td>standard</td><td>96.90140</td><td>5</td><td>13.61014</td><td>Preprocessor1_Model001</td></tr>\n",
       "\t<tr><td>2</td><td>rmse</td><td>standard</td><td>87.17589</td><td>5</td><td>11.88690</td><td>Preprocessor1_Model002</td></tr>\n",
       "\t<tr><td>3</td><td>rmse</td><td>standard</td><td>84.49398</td><td>5</td><td>12.18315</td><td>Preprocessor1_Model003</td></tr>\n",
       "\t<tr><td>⋮</td><td>⋮</td><td>⋮</td><td>⋮</td><td>⋮</td><td>⋮</td><td>⋮</td></tr>\n",
       "\t<tr><td>198</td><td>rmse</td><td>standard</td><td>74.84404</td><td>5</td><td>16.30222</td><td>Preprocessor1_Model198</td></tr>\n",
       "\t<tr><td>199</td><td>rmse</td><td>standard</td><td>74.84406</td><td>5</td><td>16.30661</td><td>Preprocessor1_Model199</td></tr>\n",
       "\t<tr><td>200</td><td>rmse</td><td>standard</td><td>74.84651</td><td>5</td><td>16.30570</td><td>Preprocessor1_Model200</td></tr>\n",
       "</tbody>\n",
       "</table>\n"
      ],
      "text/latex": [
       "A tibble: 200 × 7\n",
       "\\begin{tabular}{lllllll}\n",
       " neighbors & .metric & .estimator & mean & n & std\\_err & .config\\\\\n",
       " <int> & <chr> & <chr> & <dbl> & <int> & <dbl> & <chr>\\\\\n",
       "\\hline\n",
       "\t 1 & rmse & standard & 96.90140 & 5 & 13.61014 & Preprocessor1\\_Model001\\\\\n",
       "\t 2 & rmse & standard & 87.17589 & 5 & 11.88690 & Preprocessor1\\_Model002\\\\\n",
       "\t 3 & rmse & standard & 84.49398 & 5 & 12.18315 & Preprocessor1\\_Model003\\\\\n",
       "\t ⋮ & ⋮ & ⋮ & ⋮ & ⋮ & ⋮ & ⋮\\\\\n",
       "\t 198 & rmse & standard & 74.84404 & 5 & 16.30222 & Preprocessor1\\_Model198\\\\\n",
       "\t 199 & rmse & standard & 74.84406 & 5 & 16.30661 & Preprocessor1\\_Model199\\\\\n",
       "\t 200 & rmse & standard & 74.84651 & 5 & 16.30570 & Preprocessor1\\_Model200\\\\\n",
       "\\end{tabular}\n"
      ],
      "text/markdown": [
       "\n",
       "A tibble: 200 × 7\n",
       "\n",
       "| neighbors &lt;int&gt; | .metric &lt;chr&gt; | .estimator &lt;chr&gt; | mean &lt;dbl&gt; | n &lt;int&gt; | std_err &lt;dbl&gt; | .config &lt;chr&gt; |\n",
       "|---|---|---|---|---|---|---|\n",
       "| 1 | rmse | standard | 96.90140 | 5 | 13.61014 | Preprocessor1_Model001 |\n",
       "| 2 | rmse | standard | 87.17589 | 5 | 11.88690 | Preprocessor1_Model002 |\n",
       "| 3 | rmse | standard | 84.49398 | 5 | 12.18315 | Preprocessor1_Model003 |\n",
       "| ⋮ | ⋮ | ⋮ | ⋮ | ⋮ | ⋮ | ⋮ |\n",
       "| 198 | rmse | standard | 74.84404 | 5 | 16.30222 | Preprocessor1_Model198 |\n",
       "| 199 | rmse | standard | 74.84406 | 5 | 16.30661 | Preprocessor1_Model199 |\n",
       "| 200 | rmse | standard | 74.84651 | 5 | 16.30570 | Preprocessor1_Model200 |\n",
       "\n"
      ],
      "text/plain": [
       "    neighbors .metric .estimator mean     n std_err  .config               \n",
       "1   1         rmse    standard   96.90140 5 13.61014 Preprocessor1_Model001\n",
       "2   2         rmse    standard   87.17589 5 11.88690 Preprocessor1_Model002\n",
       "3   3         rmse    standard   84.49398 5 12.18315 Preprocessor1_Model003\n",
       "⋮   ⋮         ⋮       ⋮          ⋮        ⋮ ⋮        ⋮                     \n",
       "198 198       rmse    standard   74.84404 5 16.30222 Preprocessor1_Model198\n",
       "199 199       rmse    standard   74.84406 5 16.30661 Preprocessor1_Model199\n",
       "200 200       rmse    standard   74.84651 5 16.30570 Preprocessor1_Model200"
      ]
     },
     "metadata": {},
     "output_type": "display_data"
    }
   ],
   "source": [
    "gridvals <- tibble(neighbors = seq(from = 1, to = 200))\n",
    "titles_results <- titles_workflow %>%\n",
    "    tune_grid(resamples = titles_vfold, grid = gridvals) %>%\n",
    "    collect_metrics() %>%\n",
    "    filter(.metric ==\"rmse\")\n",
    "titles_results"
   ]
  },
  {
   "cell_type": "code",
   "execution_count": 89,
   "id": "e0e36e33-ecbc-4574-8f41-f5481f37d3ec",
   "metadata": {},
   "outputs": [
    {
     "data": {
      "text/html": [
       "<table class=\"dataframe\">\n",
       "<caption>A tibble: 1 × 7</caption>\n",
       "<thead>\n",
       "\t<tr><th scope=col>neighbors</th><th scope=col>.metric</th><th scope=col>.estimator</th><th scope=col>mean</th><th scope=col>n</th><th scope=col>std_err</th><th scope=col>.config</th></tr>\n",
       "\t<tr><th scope=col>&lt;int&gt;</th><th scope=col>&lt;chr&gt;</th><th scope=col>&lt;chr&gt;</th><th scope=col>&lt;dbl&gt;</th><th scope=col>&lt;int&gt;</th><th scope=col>&lt;dbl&gt;</th><th scope=col>&lt;chr&gt;</th></tr>\n",
       "</thead>\n",
       "<tbody>\n",
       "\t<tr><td>93</td><td>rmse</td><td>standard</td><td>74.74419</td><td>5</td><td>16.32727</td><td>Preprocessor1_Model093</td></tr>\n",
       "</tbody>\n",
       "</table>\n"
      ],
      "text/latex": [
       "A tibble: 1 × 7\n",
       "\\begin{tabular}{lllllll}\n",
       " neighbors & .metric & .estimator & mean & n & std\\_err & .config\\\\\n",
       " <int> & <chr> & <chr> & <dbl> & <int> & <dbl> & <chr>\\\\\n",
       "\\hline\n",
       "\t 93 & rmse & standard & 74.74419 & 5 & 16.32727 & Preprocessor1\\_Model093\\\\\n",
       "\\end{tabular}\n"
      ],
      "text/markdown": [
       "\n",
       "A tibble: 1 × 7\n",
       "\n",
       "| neighbors &lt;int&gt; | .metric &lt;chr&gt; | .estimator &lt;chr&gt; | mean &lt;dbl&gt; | n &lt;int&gt; | std_err &lt;dbl&gt; | .config &lt;chr&gt; |\n",
       "|---|---|---|---|---|---|---|\n",
       "| 93 | rmse | standard | 74.74419 | 5 | 16.32727 | Preprocessor1_Model093 |\n",
       "\n"
      ],
      "text/plain": [
       "  neighbors .metric .estimator mean     n std_err  .config               \n",
       "1 93        rmse    standard   74.74419 5 16.32727 Preprocessor1_Model093"
      ]
     },
     "metadata": {},
     "output_type": "display_data"
    }
   ],
   "source": [
    "titles_min <- titles_results %>%\n",
    "   filter(mean == min(mean))\n",
    "titles_min"
   ]
  },
  {
   "cell_type": "code",
   "execution_count": 90,
   "id": "5fcc9273-617f-43c5-a1a8-efa2769ca9c4",
   "metadata": {},
   "outputs": [
    {
     "data": {
      "text/html": [
       "<table class=\"dataframe\">\n",
       "<caption>A tibble: 1 × 3</caption>\n",
       "<thead>\n",
       "\t<tr><th scope=col>.metric</th><th scope=col>.estimator</th><th scope=col>.estimate</th></tr>\n",
       "\t<tr><th scope=col>&lt;chr&gt;</th><th scope=col>&lt;chr&gt;</th><th scope=col>&lt;dbl&gt;</th></tr>\n",
       "</thead>\n",
       "<tbody>\n",
       "\t<tr><td>rmse</td><td>standard</td><td>78.07899</td></tr>\n",
       "</tbody>\n",
       "</table>\n"
      ],
      "text/latex": [
       "A tibble: 1 × 3\n",
       "\\begin{tabular}{lll}\n",
       " .metric & .estimator & .estimate\\\\\n",
       " <chr> & <chr> & <dbl>\\\\\n",
       "\\hline\n",
       "\t rmse & standard & 78.07899\\\\\n",
       "\\end{tabular}\n"
      ],
      "text/markdown": [
       "\n",
       "A tibble: 1 × 3\n",
       "\n",
       "| .metric &lt;chr&gt; | .estimator &lt;chr&gt; | .estimate &lt;dbl&gt; |\n",
       "|---|---|---|\n",
       "| rmse | standard | 78.07899 |\n",
       "\n"
      ],
      "text/plain": [
       "  .metric .estimator .estimate\n",
       "1 rmse    standard   78.07899 "
      ]
     },
     "metadata": {},
     "output_type": "display_data"
    }
   ],
   "source": [
    "k_min <- titles_min %>%\n",
    "    pull(neighbors)\n",
    "titles_best_spec <- nearest_neighbor(weight_func = \"rectangular\", neighbors = k_min) %>%\n",
    "    set_engine(\"kknn\") %>%\n",
    "    set_mode(\"regression\") \n",
    "titles_best_fit <- workflow() %>%\n",
    "    add_recipe(titles_recipe) %>%\n",
    "    add_model(titles_best_spec) %>%\n",
    "    fit(data = titles_training)\n",
    "titles_summary <- titles_best_fit %>%\n",
    "    predict(titles_testing) %>%\n",
    "    bind_cols(titles_testing) %>%\n",
    "    metrics(truth = tmdb_popularity, estimate = .pred) %>%\n",
    "    filter(.metric == 'rmse')\n",
    "titles_summary"
   ]
  },
  {
   "cell_type": "markdown",
   "id": "bd8cc366-f8d8-4f09-a0fb-5df74f2dc74a",
   "metadata": {},
   "source": [
    "Methods & Results:\n",
    "- describe in written English the methods you used to perform your analysis from beginning to end that narrates the code the does the analysis.\n",
    "your report should include code which:\n",
    "- loads data from the original source on the web \n",
    "- wrangles and cleans the data from it's original (downloaded) format to the format necessary for the planned analysis\n",
    "- performs a summary of the data set that is relevant for exploratory data analysis related to the planned analysis \n",
    "- creates a visualization of the dataset that is relevant for exploratory data analysis related to the planned analysis\n",
    "- performs the data analysis\n",
    "- creates a visualization of the analysis \n",
    "\n",
    "note: all tables and figure should have a figure/table number and a legend"
   ]
  },
  {
   "cell_type": "markdown",
   "id": "87253b47-5555-460f-b71e-00f05452d8e2",
   "metadata": {},
   "source": [
    "Discussion:\n",
    "- summarize what you found\n",
    "- discuss whether this is what you expected to find?\n",
    "- discuss what impact could such findings have?\n",
    "- discuss what future questions could this lead to?"
   ]
  },
  {
   "cell_type": "markdown",
   "id": "1a394da5-ba3b-406f-8191-114aca544406",
   "metadata": {},
   "source": [
    "References:\n",
    "- At least 2 citations of literature relevant to the project (format is your choice, just be consistent across the references).\n",
    "- Make sure to cite the source of your data as well."
   ]
  }
 ],
 "metadata": {
  "kernelspec": {
   "display_name": "R",
   "language": "R",
   "name": "ir"
  },
  "language_info": {
   "codemirror_mode": "r",
   "file_extension": ".r",
   "mimetype": "text/x-r-source",
   "name": "R",
   "pygments_lexer": "r",
   "version": "4.1.3"
  }
 },
 "nbformat": 4,
 "nbformat_minor": 5
}
