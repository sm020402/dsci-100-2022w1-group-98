{
 "cells": [
  {
   "cell_type": "markdown",
   "id": "b2d8e6a1-f8d5-454f-af8e-adaca3200e0d",
   "metadata": {},
   "source": [
    "Title:"
   ]
  },
  {
   "cell_type": "markdown",
   "id": "07fac4eb-31a5-41eb-8c9e-cc71948d9107",
   "metadata": {},
   "source": [
    "Introduction:\n",
    "- provide some relevant background information on the topic so that someone unfamiliar with it will be prepared to understand the rest of your report\n",
    "- clearly state the question you tried to answer with your project\n",
    "- identify and describe the dataset that was used to answer the question"
   ]
  },
  {
   "cell_type": "markdown",
   "id": "bd8cc366-f8d8-4f09-a0fb-5df74f2dc74a",
   "metadata": {},
   "source": [
    "Methods & Results:\n",
    "- describe in written English the methods you used to perform your analysis from beginning to end that narrates the code the does the analysis.\n",
    "your report should include code which:\n",
    "- loads data from the original source on the web \n",
    "- wrangles and cleans the data from it's original (downloaded) format to the format necessary for the planned analysis\n",
    "- performs a summary of the data set that is relevant for exploratory data analysis related to the planned analysis \n",
    "- creates a visualization of the dataset that is relevant for exploratory data analysis related to the planned analysis\n",
    "- performs the data analysis\n",
    "- creates a visualization of the analysis \n",
    "\n",
    "note: all tables and figure should have a figure/table number and a legend"
   ]
  },
  {
   "cell_type": "markdown",
   "id": "87253b47-5555-460f-b71e-00f05452d8e2",
   "metadata": {},
   "source": [
    "Discussion:\n",
    "- summarize what you found\n",
    "- discuss whether this is what you expected to find?\n",
    "- discuss what impact could such findings have?\n",
    "- discuss what future questions could this lead to?"
   ]
  },
  {
   "cell_type": "markdown",
   "id": "1a394da5-ba3b-406f-8191-114aca544406",
   "metadata": {},
   "source": [
    "References:\n",
    "- At least 2 citations of literature relevant to the project (format is your choice, just be consistent across the references).\n",
    "- Make sure to cite the source of your data as well."
   ]
  }
 ],
 "metadata": {
  "kernelspec": {
   "display_name": "R",
   "language": "R",
   "name": "ir"
  },
  "language_info": {
   "codemirror_mode": "r",
   "file_extension": ".r",
   "mimetype": "text/x-r-source",
   "name": "R",
   "pygments_lexer": "r",
   "version": "4.1.3"
  }
 },
 "nbformat": 4,
 "nbformat_minor": 5
}
