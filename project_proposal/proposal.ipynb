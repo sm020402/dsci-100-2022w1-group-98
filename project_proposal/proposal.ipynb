{
 "cells": [
  {
   "cell_type": "code",
   "execution_count": 2,
   "id": "ff01c52f-6b3a-4367-b350-0b05e031f009",
   "metadata": {},
   "outputs": [
    {
     "name": "stderr",
     "output_type": "stream",
     "text": [
      "── \u001b[1mAttaching packages\u001b[22m ─────────────────────────────────────── tidyverse 1.3.1 ──\n",
      "\n",
      "\u001b[32m✔\u001b[39m \u001b[34mggplot2\u001b[39m 3.3.6     \u001b[32m✔\u001b[39m \u001b[34mpurrr  \u001b[39m 0.3.4\n",
      "\u001b[32m✔\u001b[39m \u001b[34mtibble \u001b[39m 3.1.7     \u001b[32m✔\u001b[39m \u001b[34mdplyr  \u001b[39m 1.0.9\n",
      "\u001b[32m✔\u001b[39m \u001b[34mtidyr  \u001b[39m 1.2.0     \u001b[32m✔\u001b[39m \u001b[34mstringr\u001b[39m 1.4.0\n",
      "\u001b[32m✔\u001b[39m \u001b[34mreadr  \u001b[39m 2.1.2     \u001b[32m✔\u001b[39m \u001b[34mforcats\u001b[39m 0.5.1\n",
      "\n",
      "── \u001b[1mConflicts\u001b[22m ────────────────────────────────────────── tidyverse_conflicts() ──\n",
      "\u001b[31m✖\u001b[39m \u001b[34mdplyr\u001b[39m::\u001b[32mfilter()\u001b[39m masks \u001b[34mstats\u001b[39m::filter()\n",
      "\u001b[31m✖\u001b[39m \u001b[34mdplyr\u001b[39m::\u001b[32mlag()\u001b[39m    masks \u001b[34mstats\u001b[39m::lag()\n",
      "\n",
      "── \u001b[1mAttaching packages\u001b[22m ────────────────────────────────────── tidymodels 1.0.0 ──\n",
      "\n",
      "\u001b[32m✔\u001b[39m \u001b[34mbroom       \u001b[39m 1.0.0     \u001b[32m✔\u001b[39m \u001b[34mrsample     \u001b[39m 1.0.0\n",
      "\u001b[32m✔\u001b[39m \u001b[34mdials       \u001b[39m 1.0.0     \u001b[32m✔\u001b[39m \u001b[34mtune        \u001b[39m 1.0.0\n",
      "\u001b[32m✔\u001b[39m \u001b[34minfer       \u001b[39m 1.0.2     \u001b[32m✔\u001b[39m \u001b[34mworkflows   \u001b[39m 1.0.0\n",
      "\u001b[32m✔\u001b[39m \u001b[34mmodeldata   \u001b[39m 1.0.0     \u001b[32m✔\u001b[39m \u001b[34mworkflowsets\u001b[39m 1.0.0\n",
      "\u001b[32m✔\u001b[39m \u001b[34mparsnip     \u001b[39m 1.0.0     \u001b[32m✔\u001b[39m \u001b[34myardstick   \u001b[39m 1.0.0\n",
      "\u001b[32m✔\u001b[39m \u001b[34mrecipes     \u001b[39m 1.0.1     \n",
      "\n",
      "── \u001b[1mConflicts\u001b[22m ───────────────────────────────────────── tidymodels_conflicts() ──\n",
      "\u001b[31m✖\u001b[39m \u001b[34mscales\u001b[39m::\u001b[32mdiscard()\u001b[39m masks \u001b[34mpurrr\u001b[39m::discard()\n",
      "\u001b[31m✖\u001b[39m \u001b[34mdplyr\u001b[39m::\u001b[32mfilter()\u001b[39m   masks \u001b[34mstats\u001b[39m::filter()\n",
      "\u001b[31m✖\u001b[39m \u001b[34mrecipes\u001b[39m::\u001b[32mfixed()\u001b[39m  masks \u001b[34mstringr\u001b[39m::fixed()\n",
      "\u001b[31m✖\u001b[39m \u001b[34mdplyr\u001b[39m::\u001b[32mlag()\u001b[39m      masks \u001b[34mstats\u001b[39m::lag()\n",
      "\u001b[31m✖\u001b[39m \u001b[34myardstick\u001b[39m::\u001b[32mspec()\u001b[39m masks \u001b[34mreadr\u001b[39m::spec()\n",
      "\u001b[31m✖\u001b[39m \u001b[34mrecipes\u001b[39m::\u001b[32mstep()\u001b[39m   masks \u001b[34mstats\u001b[39m::step()\n",
      "\u001b[34m•\u001b[39m Use suppressPackageStartupMessages() to eliminate package startup messages\n",
      "\n",
      "Warning message in file(filename, \"r\", encoding = encoding):\n",
      "“cannot open file 'tests.R': No such file or directory”\n"
     ]
    },
    {
     "ename": "ERROR",
     "evalue": "Error in file(filename, \"r\", encoding = encoding): cannot open the connection\n",
     "output_type": "error",
     "traceback": [
      "Error in file(filename, \"r\", encoding = encoding): cannot open the connection\nTraceback:\n",
      "1. source(\"tests.R\")",
      "2. file(filename, \"r\", encoding = encoding)"
     ]
    }
   ],
   "source": [
    "library(tidyverse)\n",
    "library(repr)\n",
    "library(tidymodels)\n",
    "options(repr.matrix.max.rows = 6)\n",
    "source('tests.R')\n",
    "source('cleanup.R')"
   ]
  },
  {
   "cell_type": "code",
   "execution_count": 18,
   "id": "f4891cd6-0d3f-493d-9ce2-f57041b15775",
   "metadata": {},
   "outputs": [
    {
     "name": "stderr",
     "output_type": "stream",
     "text": [
      "\u001b[1mRows: \u001b[22m\u001b[34m5850\u001b[39m \u001b[1mColumns: \u001b[22m\u001b[34m15\u001b[39m\n",
      "\u001b[36m──\u001b[39m \u001b[1mColumn specification\u001b[22m \u001b[36m────────────────────────────────────────────────────────\u001b[39m\n",
      "\u001b[1mDelimiter:\u001b[22m \",\"\n",
      "\u001b[31mchr\u001b[39m (8): id, title, type, description, age_certification, genres, production...\n",
      "\u001b[32mdbl\u001b[39m (7): release_year, runtime, seasons, imdb_score, imdb_votes, tmdb_popula...\n",
      "\n",
      "\u001b[36mℹ\u001b[39m Use `spec()` to retrieve the full column specification for this data.\n",
      "\u001b[36mℹ\u001b[39m Specify the column types or set `show_col_types = FALSE` to quiet this message.\n"
     ]
    },
    {
     "data": {
      "text/html": [
       "<table class=\"dataframe\">\n",
       "<caption>A tibble: 200 × 10</caption>\n",
       "<thead>\n",
       "\t<tr><th scope=col>title</th><th scope=col>age_certification</th><th scope=col>runtime</th><th scope=col>genres</th><th scope=col>production_countries</th><th scope=col>imdb_id</th><th scope=col>imdb_score</th><th scope=col>imdb_votes</th><th scope=col>tmdb_popularity</th><th scope=col>tmdb_score</th></tr>\n",
       "\t<tr><th scope=col>&lt;chr&gt;</th><th scope=col>&lt;chr&gt;</th><th scope=col>&lt;dbl&gt;</th><th scope=col>&lt;chr&gt;</th><th scope=col>&lt;chr&gt;</th><th scope=col>&lt;chr&gt;</th><th scope=col>&lt;dbl&gt;</th><th scope=col>&lt;dbl&gt;</th><th scope=col>&lt;dbl&gt;</th><th scope=col>&lt;dbl&gt;</th></tr>\n",
       "</thead>\n",
       "<tbody>\n",
       "\t<tr><td>The Gray Man        </td><td>PG-13</td><td>128</td><td>['thriller', 'action']                              </td><td>['US', 'CZ']</td><td>tt1649418 </td><td>6.6</td><td>46071</td><td> 510.268</td><td>6.851</td></tr>\n",
       "\t<tr><td>RRR                 </td><td>R    </td><td>187</td><td>['drama', 'action']                                 </td><td>['IN']      </td><td>tt8178634 </td><td>8.0</td><td>87515</td><td>  53.526</td><td>7.800</td></tr>\n",
       "\t<tr><td>The Man from Toronto</td><td>PG-13</td><td>110</td><td>['action', 'thriller', 'drama', 'romance', 'comedy']</td><td>['US']      </td><td>tt11671006</td><td>5.8</td><td>31497</td><td>1439.906</td><td>6.449</td></tr>\n",
       "\t<tr><td>⋮</td><td>⋮</td><td>⋮</td><td>⋮</td><td>⋮</td><td>⋮</td><td>⋮</td><td>⋮</td><td>⋮</td><td>⋮</td></tr>\n",
       "\t<tr><td>Celeb Five: Behind the Curtain</td><td>NA</td><td> 55</td><td>['comedy', 'documentation']</td><td>['KR']</td><td>tt18570468</td><td>4.7</td><td>29</td><td>1.674</td><td> 5</td></tr>\n",
       "\t<tr><td>Kongsi Raya                   </td><td>NA</td><td>102</td><td>['comedy']                 </td><td>['MY']</td><td>tt16806990</td><td>7.0</td><td>66</td><td>2.112</td><td>NA</td></tr>\n",
       "\t<tr><td>Sun of the Soil               </td><td>NA</td><td> 26</td><td>[]                         </td><td>[]    </td><td>NA        </td><td> NA</td><td>NA</td><td>1.179</td><td> 7</td></tr>\n",
       "</tbody>\n",
       "</table>\n"
      ],
      "text/latex": [
       "A tibble: 200 × 10\n",
       "\\begin{tabular}{llllllllll}\n",
       " title & age\\_certification & runtime & genres & production\\_countries & imdb\\_id & imdb\\_score & imdb\\_votes & tmdb\\_popularity & tmdb\\_score\\\\\n",
       " <chr> & <chr> & <dbl> & <chr> & <chr> & <chr> & <dbl> & <dbl> & <dbl> & <dbl>\\\\\n",
       "\\hline\n",
       "\t The Gray Man         & PG-13 & 128 & {[}'thriller', 'action'{]}                               & {[}'US', 'CZ'{]} & tt1649418  & 6.6 & 46071 &  510.268 & 6.851\\\\\n",
       "\t RRR                  & R     & 187 & {[}'drama', 'action'{]}                                  & {[}'IN'{]}       & tt8178634  & 8.0 & 87515 &   53.526 & 7.800\\\\\n",
       "\t The Man from Toronto & PG-13 & 110 & {[}'action', 'thriller', 'drama', 'romance', 'comedy'{]} & {[}'US'{]}       & tt11671006 & 5.8 & 31497 & 1439.906 & 6.449\\\\\n",
       "\t ⋮ & ⋮ & ⋮ & ⋮ & ⋮ & ⋮ & ⋮ & ⋮ & ⋮ & ⋮\\\\\n",
       "\t Celeb Five: Behind the Curtain & NA &  55 & {[}'comedy', 'documentation'{]} & {[}'KR'{]} & tt18570468 & 4.7 & 29 & 1.674 &  5\\\\\n",
       "\t Kongsi Raya                    & NA & 102 & {[}'comedy'{]}                  & {[}'MY'{]} & tt16806990 & 7.0 & 66 & 2.112 & NA\\\\\n",
       "\t Sun of the Soil                & NA &  26 & {[}{]}                          & {[}{]}     & NA         &  NA & NA & 1.179 &  7\\\\\n",
       "\\end{tabular}\n"
      ],
      "text/markdown": [
       "\n",
       "A tibble: 200 × 10\n",
       "\n",
       "| title &lt;chr&gt; | age_certification &lt;chr&gt; | runtime &lt;dbl&gt; | genres &lt;chr&gt; | production_countries &lt;chr&gt; | imdb_id &lt;chr&gt; | imdb_score &lt;dbl&gt; | imdb_votes &lt;dbl&gt; | tmdb_popularity &lt;dbl&gt; | tmdb_score &lt;dbl&gt; |\n",
       "|---|---|---|---|---|---|---|---|---|---|\n",
       "| The Gray Man         | PG-13 | 128 | ['thriller', 'action']                               | ['US', 'CZ'] | tt1649418  | 6.6 | 46071 |  510.268 | 6.851 |\n",
       "| RRR                  | R     | 187 | ['drama', 'action']                                  | ['IN']       | tt8178634  | 8.0 | 87515 |   53.526 | 7.800 |\n",
       "| The Man from Toronto | PG-13 | 110 | ['action', 'thriller', 'drama', 'romance', 'comedy'] | ['US']       | tt11671006 | 5.8 | 31497 | 1439.906 | 6.449 |\n",
       "| ⋮ | ⋮ | ⋮ | ⋮ | ⋮ | ⋮ | ⋮ | ⋮ | ⋮ | ⋮ |\n",
       "| Celeb Five: Behind the Curtain | NA |  55 | ['comedy', 'documentation'] | ['KR'] | tt18570468 | 4.7 | 29 | 1.674 |  5 |\n",
       "| Kongsi Raya                    | NA | 102 | ['comedy']                  | ['MY'] | tt16806990 | 7.0 | 66 | 2.112 | NA |\n",
       "| Sun of the Soil                | NA |  26 | []                          | []     | NA         |  NA | NA | 1.179 |  7 |\n",
       "\n"
      ],
      "text/plain": [
       "    title                          age_certification runtime\n",
       "1   The Gray Man                   PG-13             128    \n",
       "2   RRR                            R                 187    \n",
       "3   The Man from Toronto           PG-13             110    \n",
       "⋮   ⋮                              ⋮                 ⋮      \n",
       "198 Celeb Five: Behind the Curtain NA                 55    \n",
       "199 Kongsi Raya                    NA                102    \n",
       "200 Sun of the Soil                NA                 26    \n",
       "    genres                                               production_countries\n",
       "1   ['thriller', 'action']                               ['US', 'CZ']        \n",
       "2   ['drama', 'action']                                  ['IN']              \n",
       "3   ['action', 'thriller', 'drama', 'romance', 'comedy'] ['US']              \n",
       "⋮   ⋮                                                    ⋮                   \n",
       "198 ['comedy', 'documentation']                          ['KR']              \n",
       "199 ['comedy']                                           ['MY']              \n",
       "200 []                                                   []                  \n",
       "    imdb_id    imdb_score imdb_votes tmdb_popularity tmdb_score\n",
       "1   tt1649418  6.6        46071       510.268        6.851     \n",
       "2   tt8178634  8.0        87515        53.526        7.800     \n",
       "3   tt11671006 5.8        31497      1439.906        6.449     \n",
       "⋮   ⋮          ⋮          ⋮          ⋮               ⋮         \n",
       "198 tt18570468 4.7        29         1.674            5        \n",
       "199 tt16806990 7.0        66         2.112           NA        \n",
       "200 NA          NA        NA         1.179            7        "
      ]
     },
     "metadata": {},
     "output_type": "display_data"
    },
    {
     "data": {
      "text/html": [
       "<table class=\"dataframe\">\n",
       "<caption>A tibble: 171 × 11</caption>\n",
       "<thead>\n",
       "\t<tr><th scope=col>title</th><th scope=col>age_certification</th><th scope=col>runtime</th><th scope=col>genres</th><th scope=col>production_countries</th><th scope=col>seasons</th><th scope=col>imdb_id</th><th scope=col>imdb_score</th><th scope=col>imdb_votes</th><th scope=col>tmdb_popularity</th><th scope=col>tmdb_score</th></tr>\n",
       "\t<tr><th scope=col>&lt;chr&gt;</th><th scope=col>&lt;chr&gt;</th><th scope=col>&lt;dbl&gt;</th><th scope=col>&lt;chr&gt;</th><th scope=col>&lt;chr&gt;</th><th scope=col>&lt;dbl&gt;</th><th scope=col>&lt;chr&gt;</th><th scope=col>&lt;dbl&gt;</th><th scope=col>&lt;dbl&gt;</th><th scope=col>&lt;dbl&gt;</th><th scope=col>&lt;dbl&gt;</th></tr>\n",
       "</thead>\n",
       "<tbody>\n",
       "\t<tr><td>Resident Evil     </td><td>TV-MA</td><td>51</td><td>['scifi', 'thriller', 'action', 'horror']</td><td>['US']</td><td>1</td><td>tt9660182 </td><td>3.7</td><td>24982</td><td>1387.392</td><td>5.956</td></tr>\n",
       "\t<tr><td>The Lincoln Lawyer</td><td>TV-MA</td><td>50</td><td>['crime', 'drama', 'thriller']           </td><td>['US']</td><td>1</td><td>tt13833978</td><td>7.7</td><td>30295</td><td>  68.925</td><td>8.100</td></tr>\n",
       "\t<tr><td>Man vs. Bee       </td><td>TV-PG</td><td>11</td><td>['comedy', 'family']                     </td><td>['GB']</td><td>1</td><td>tt13640670</td><td>6.8</td><td>22287</td><td> 260.169</td><td>7.477</td></tr>\n",
       "\t<tr><td>⋮</td><td>⋮</td><td>⋮</td><td>⋮</td><td>⋮</td><td>⋮</td><td>⋮</td><td>⋮</td><td>⋮</td><td>⋮</td><td>⋮</td></tr>\n",
       "\t<tr><td>Byron Baes            </td><td>TV-MA</td><td>39</td><td>['reality']</td><td>['AU']</td><td>1</td><td>tt14537060</td><td>2.6</td><td>498</td><td>1.658</td><td> 6</td></tr>\n",
       "\t<tr><td>African Knock Out Show</td><td>TV-14</td><td>32</td><td>[]         </td><td>['US']</td><td>1</td><td>NA        </td><td> NA</td><td> NA</td><td>0.839</td><td>NA</td></tr>\n",
       "\t<tr><td>Only Jokes Allowed    </td><td>TV-MA</td><td>16</td><td>['comedy'] </td><td>['ZA']</td><td>1</td><td>tt17052148</td><td>4.9</td><td> 45</td><td>1.629</td><td>10</td></tr>\n",
       "</tbody>\n",
       "</table>\n"
      ],
      "text/latex": [
       "A tibble: 171 × 11\n",
       "\\begin{tabular}{lllllllllll}\n",
       " title & age\\_certification & runtime & genres & production\\_countries & seasons & imdb\\_id & imdb\\_score & imdb\\_votes & tmdb\\_popularity & tmdb\\_score\\\\\n",
       " <chr> & <chr> & <dbl> & <chr> & <chr> & <dbl> & <chr> & <dbl> & <dbl> & <dbl> & <dbl>\\\\\n",
       "\\hline\n",
       "\t Resident Evil      & TV-MA & 51 & {[}'scifi', 'thriller', 'action', 'horror'{]} & {[}'US'{]} & 1 & tt9660182  & 3.7 & 24982 & 1387.392 & 5.956\\\\\n",
       "\t The Lincoln Lawyer & TV-MA & 50 & {[}'crime', 'drama', 'thriller'{]}            & {[}'US'{]} & 1 & tt13833978 & 7.7 & 30295 &   68.925 & 8.100\\\\\n",
       "\t Man vs. Bee        & TV-PG & 11 & {[}'comedy', 'family'{]}                      & {[}'GB'{]} & 1 & tt13640670 & 6.8 & 22287 &  260.169 & 7.477\\\\\n",
       "\t ⋮ & ⋮ & ⋮ & ⋮ & ⋮ & ⋮ & ⋮ & ⋮ & ⋮ & ⋮ & ⋮\\\\\n",
       "\t Byron Baes             & TV-MA & 39 & {[}'reality'{]} & {[}'AU'{]} & 1 & tt14537060 & 2.6 & 498 & 1.658 &  6\\\\\n",
       "\t African Knock Out Show & TV-14 & 32 & {[}{]}          & {[}'US'{]} & 1 & NA         &  NA &  NA & 0.839 & NA\\\\\n",
       "\t Only Jokes Allowed     & TV-MA & 16 & {[}'comedy'{]}  & {[}'ZA'{]} & 1 & tt17052148 & 4.9 &  45 & 1.629 & 10\\\\\n",
       "\\end{tabular}\n"
      ],
      "text/markdown": [
       "\n",
       "A tibble: 171 × 11\n",
       "\n",
       "| title &lt;chr&gt; | age_certification &lt;chr&gt; | runtime &lt;dbl&gt; | genres &lt;chr&gt; | production_countries &lt;chr&gt; | seasons &lt;dbl&gt; | imdb_id &lt;chr&gt; | imdb_score &lt;dbl&gt; | imdb_votes &lt;dbl&gt; | tmdb_popularity &lt;dbl&gt; | tmdb_score &lt;dbl&gt; |\n",
       "|---|---|---|---|---|---|---|---|---|---|---|\n",
       "| Resident Evil      | TV-MA | 51 | ['scifi', 'thriller', 'action', 'horror'] | ['US'] | 1 | tt9660182  | 3.7 | 24982 | 1387.392 | 5.956 |\n",
       "| The Lincoln Lawyer | TV-MA | 50 | ['crime', 'drama', 'thriller']            | ['US'] | 1 | tt13833978 | 7.7 | 30295 |   68.925 | 8.100 |\n",
       "| Man vs. Bee        | TV-PG | 11 | ['comedy', 'family']                      | ['GB'] | 1 | tt13640670 | 6.8 | 22287 |  260.169 | 7.477 |\n",
       "| ⋮ | ⋮ | ⋮ | ⋮ | ⋮ | ⋮ | ⋮ | ⋮ | ⋮ | ⋮ | ⋮ |\n",
       "| Byron Baes             | TV-MA | 39 | ['reality'] | ['AU'] | 1 | tt14537060 | 2.6 | 498 | 1.658 |  6 |\n",
       "| African Knock Out Show | TV-14 | 32 | []          | ['US'] | 1 | NA         |  NA |  NA | 0.839 | NA |\n",
       "| Only Jokes Allowed     | TV-MA | 16 | ['comedy']  | ['ZA'] | 1 | tt17052148 | 4.9 |  45 | 1.629 | 10 |\n",
       "\n"
      ],
      "text/plain": [
       "    title                  age_certification runtime\n",
       "1   Resident Evil          TV-MA             51     \n",
       "2   The Lincoln Lawyer     TV-MA             50     \n",
       "3   Man vs. Bee            TV-PG             11     \n",
       "⋮   ⋮                      ⋮                 ⋮      \n",
       "169 Byron Baes             TV-MA             39     \n",
       "170 African Knock Out Show TV-14             32     \n",
       "171 Only Jokes Allowed     TV-MA             16     \n",
       "    genres                                    production_countries seasons\n",
       "1   ['scifi', 'thriller', 'action', 'horror'] ['US']               1      \n",
       "2   ['crime', 'drama', 'thriller']            ['US']               1      \n",
       "3   ['comedy', 'family']                      ['GB']               1      \n",
       "⋮   ⋮                                         ⋮                    ⋮      \n",
       "169 ['reality']                               ['AU']               1      \n",
       "170 []                                        ['US']               1      \n",
       "171 ['comedy']                                ['ZA']               1      \n",
       "    imdb_id    imdb_score imdb_votes tmdb_popularity tmdb_score\n",
       "1   tt9660182  3.7        24982      1387.392        5.956     \n",
       "2   tt13833978 7.7        30295        68.925        8.100     \n",
       "3   tt13640670 6.8        22287       260.169        7.477     \n",
       "⋮   ⋮          ⋮          ⋮          ⋮               ⋮         \n",
       "169 tt14537060 2.6        498        1.658            6        \n",
       "170 NA          NA         NA        0.839           NA        \n",
       "171 tt17052148 4.9         45        1.629           10        "
      ]
     },
     "metadata": {},
     "output_type": "display_data"
    }
   ],
   "source": [
    "# I'm just providing a few ways of organizing the data...\n",
    "\n",
    "\n",
    "titles_data <- read_csv(\"data/titles.csv\")\n",
    "\n",
    "titles_movie_data <- titles_data %>%\n",
    "    filter(release_year == 2022, type == \"MOVIE\") %>%\n",
    "    select(-description, -seasons, -type, -id, -release_year)\n",
    "\n",
    "titles_show_data <- titles_data %>%\n",
    "    filter(release_year == 2022, type == \"SHOW\") %>%\n",
    "    select(-description, -type, -id, -release_year)\n",
    "    \n",
    "titles_movie_data\n",
    "titles_show_data"
   ]
  },
  {
   "cell_type": "markdown",
   "id": "5e95ad4c-c391-4c2c-a390-5877baae470c",
   "metadata": {},
   "source": [
    "I'm thinking we could use regression to predict imdb score based on imdb votes, tmdb popularity and tmdb score. Then for our visuals, we can just plot each of those variables against imdb score so a plot for each of the following: imdb score vs imdb votes, imdb score and tmdb popularity, imdb score and tmdb score. "
   ]
  },
  {
   "cell_type": "code",
   "execution_count": null,
   "id": "629928f5-8e47-410b-a58d-75c02bbde9e2",
   "metadata": {},
   "outputs": [],
   "source": [
    "source('cleanup.R')"
   ]
  }
 ],
 "metadata": {
  "kernelspec": {
   "display_name": "R",
   "language": "R",
   "name": "ir"
  },
  "language_info": {
   "codemirror_mode": "r",
   "file_extension": ".r",
   "mimetype": "text/x-r-source",
   "name": "R",
   "pygments_lexer": "r",
   "version": "4.1.3"
  }
 },
 "nbformat": 4,
 "nbformat_minor": 5
}
